{
 "cells": [
  {
   "cell_type": "code",
   "execution_count": 1,
   "metadata": {},
   "outputs": [
    {
     "name": "stdout",
     "output_type": "stream",
     "text": [
      "\n",
      "MODEL DIR: /mnt/c/Users/amogh/Documents/Code\n"
     ]
    }
   ],
   "source": [
    "import sys\n",
    "sys.path.append('../')\n",
    "from constants import MIMIC_3_DIR, DATA_DIR\n",
    "\n",
    "import numpy as np\n",
    "import pandas as pd\n",
    "\n",
    "from collections import Counter, defaultdict\n",
    "import csv\n",
    "import math\n",
    "import operator"
   ]
  },
  {
   "cell_type": "code",
   "execution_count": 2,
   "metadata": {},
   "outputs": [],
   "source": [
    "df_disch = pd.read_csv('%s/disch_full.csv' % MIMIC_3_DIR)\n",
    "df_readmission = pd.read_csv('%s/readmission_labels.csv' % MIMIC_3_DIR)"
   ]
  },
  {
   "cell_type": "code",
   "execution_count": 3,
   "metadata": {},
   "outputs": [
    {
     "data": {
      "text/plain": [
       "58976"
      ]
     },
     "execution_count": 3,
     "metadata": {},
     "output_type": "execute_result"
    }
   ],
   "source": [
    "len(df_readmission['HADM_ID'].unique())"
   ]
  },
  {
   "cell_type": "code",
   "execution_count": 4,
   "metadata": {},
   "outputs": [
    {
     "data": {
      "text/plain": [
       "52726"
      ]
     },
     "execution_count": 4,
     "metadata": {},
     "output_type": "execute_result"
    }
   ],
   "source": [
    "len(df_disch['HADM_ID'].unique())"
   ]
  },
  {
   "cell_type": "code",
   "execution_count": 5,
   "metadata": {},
   "outputs": [
    {
     "data": {
      "text/plain": [
       "58976"
      ]
     },
     "execution_count": 5,
     "metadata": {},
     "output_type": "execute_result"
    }
   ],
   "source": [
    "len(df_readmission)"
   ]
  },
  {
   "cell_type": "code",
   "execution_count": 6,
   "metadata": {},
   "outputs": [
    {
     "data": {
      "text/plain": [
       "59652"
      ]
     },
     "execution_count": 6,
     "metadata": {},
     "output_type": "execute_result"
    }
   ],
   "source": [
    "len(df_disch)"
   ]
  },
  {
   "cell_type": "code",
   "execution_count": 7,
   "metadata": {},
   "outputs": [],
   "source": [
    "df_merged = df_disch.merge(df_readmission, how=\"left\", on=\"HADM_ID\")"
   ]
  },
  {
   "cell_type": "code",
   "execution_count": 8,
   "metadata": {},
   "outputs": [
    {
     "name": "stdout",
     "output_type": "stream",
     "text": [
      "   SUBJECT_ID  HADM_ID  CHARTTIME  \\\n",
      "0       22532   167853        NaN   \n",
      "1       13702   107527        NaN   \n",
      "2       13702   167118        NaN   \n",
      "3       13702   196489        NaN   \n",
      "4       26880   135453        NaN   \n",
      "\n",
      "                                                TEXT  test  \n",
      "0  admission date discharge date service addendum...     0  \n",
      "1  admission date discharge date date of birth se...     0  \n",
      "2  admission date discharge date service cardioth...     0  \n",
      "3  admission date discharge date service medicine...     0  \n",
      "4  admission date discharge date date of birth se...     0  \n"
     ]
    }
   ],
   "source": [
    "print(df_merged.head())"
   ]
  },
  {
   "cell_type": "code",
   "execution_count": 9,
   "metadata": {},
   "outputs": [],
   "source": [
    "df_merged.drop(columns=['CHARTTIME'], inplace=True)"
   ]
  },
  {
   "cell_type": "code",
   "execution_count": 11,
   "metadata": {},
   "outputs": [],
   "source": [
    "df_merged.rename(columns={'test':'READMISSION'}, inplace=True)\n",
    "file = '%s/disch_summary_readmission_labels.csv' % MIMIC_3_DIR\n",
    "df_merged.to_csv(file, index=False)"
   ]
  },
  {
   "cell_type": "code",
   "execution_count": 13,
   "metadata": {},
   "outputs": [
    {
     "name": "stdout",
     "output_type": "stream",
     "text": [
      "   SUBJECT_ID  HADM_ID                                               TEXT  \\\n",
      "0       22532   167853  admission date discharge date service addendum...   \n",
      "1       13702   107527  admission date discharge date date of birth se...   \n",
      "2       13702   167118  admission date discharge date service cardioth...   \n",
      "3       13702   196489  admission date discharge date service medicine...   \n",
      "4       26880   135453  admission date discharge date date of birth se...   \n",
      "\n",
      "   READMISSION  \n",
      "0            0  \n",
      "1            0  \n",
      "2            0  \n",
      "3            0  \n",
      "4            0  \n"
     ]
    }
   ],
   "source": [
    "df_disch = pd.read_csv('%s/disch_summary_readmission_labels.csv' % MIMIC_3_DIR)\n",
    "print(df_disch.head())"
   ]
  },
  {
   "cell_type": "code",
   "execution_count": 14,
   "metadata": {},
   "outputs": [
    {
     "name": "stdout",
     "output_type": "stream",
     "text": [
      "admission date discharge date date of birth sex f service surgery allergies aspirin ibuprofen attending first lf chief complaint abdominal pain hiccups major surgical or invasive procedure exploratory laparotomy with extensive lysis of adhesions resection of right colon with ileocolic anastomosis small bowel resection drainage of retroperitoneal and intra abdominal abscess history of present illness ms known lastname is a year old female s p aortobifemoral bypass graft on after a prior fem fem crossover graft she was discharged on to home day following discharge she began having intractable hiccups worsening nausea and worsening abdominal pain on she reports having episodes of bilious vomiting which has continued since that time additionally she has been having worsening diffuse abdominal pain was seen by pcp today who obtain a ct scan at an outside facility ct scan showed of fluid collection vs dilated small bowel with air fluid level she was transferred to the ed for further care of note she is unsure if she is passing flatus but does reports daily normal bowel movements past medical history cholecystectomy appendectomy diverticulitis gastric ulcers kidney stones partial gastrectomy at sbo pcp last name last name stitle in location un ma past psych no hospitalizations or formal psychiatric treatment saw a counselor years ago briefly no previous suicide attempts confirmed by daughter daughter says she would often threaten suicide when frustrated but never came to close to acting out on it social history lives with her father and mother after her husband died denies etoh smoker pack year history of smoking family history sister etoh ni diagnosed with bipolar physical exam vital signs temp rr pulse bp gen nad heent anicteric ngt to lcws with bilious cv rrr pulm cta b l abd soft distended tenderness over the right periumbilcal region without rebound or guarding ext edema warm large seroma in right groin pertinent results wbc rbc hgb hct mcv mch mchc rdw neuts lymphs monos eos basos plt count pt ptt inr pt glucose urea n creat sodium potassium chloride total anion gap glucose lactate na k cl ct abd pelvis large anterior intra abdominal air and fluid collection concerning for an abscess focally dilated small bowel loop is concerning for internal hernia and closed loop obstruction area of of free air and adjacent fluid within the right lower quadrant separate from the primary abscess multiple seromas overlying the groin incision sites bilaterally no appreciable contrast enhancement across the femoral femoral bypass status post aortobifemoral bypass which appears patent with flow demonstrated in the superficial femoral and profundus branches bilaterally unchanged mild extra and intra hepatic biliary ductal dilatation right femoral vasc us occluded femoral to femoral bypass graft large hematoma or seroma within the right groin normal arterial and venous waveforms within the right common femoral artery and vein no pseudoaneurysm kub dilated central loop of small bowel correlated with findings on ct concerning for partial bowel obstruction extraluminal air seen in the right lower quadrant corresponding to the findings on ct air fluid collection seen superior to the dilated loop of small bowel correlating with fluid collection seen on ct worrisome for abscess cxr picc projects just beyond superior cavoatrial junction pull back cm brief hospital course patient was admitted to the acute care surgery service with intraabdominal abscess she was taken to the or on hospital day and underwent exploratory laparotomy debridement small bowel resection and right hemicolectomy she tolerated the procedure without complication post operatively she spent a short amount of time in the pacu before she was transferred to the floor she was maintained on iv antibiotics and id was consulted for recommendations regarding long term antibiotics on the floor when bowel function returned she was first advanced to clears and then to regular diet which she tolerated without nausea or vomitting her foley was discontinued and she voided spontaneously she ambulated with pt and was cleared for discharge home from a pt perspective pain was well controlled at time of discharge pain was well controlled she was tolerating a regular diet and voiding spontaneously follow up was arranged with infectious disease clinic in her town physical therapy cleared her for discharge home from their perspective medications on admission duloxetine methadone prilosec trazodone aripiprazole sucralfate boniva q monthly symbicort prn sob plavix simvastatin lopressor discharge medications duloxetine mg capsule delayed release e c sig two capsule delayed release e c po bid times a day aripiprazole mg tablet sig one tablet po daily daily sucralfate gram tablet sig two tablet po bid times a day simvastatin mg tablet sig one tablet po daily daily metoprolol tartrate mg tablet sig tablet po tid times a day methadone mg tablet sig two tablet po bid times a day docusate sodium mg capsule sig one capsule po bid times a day oxycodone acetaminophen mg tablet sig tablets po every hours as needed for pain disp tablet s refills heparin flush units ml ml iv prn line flush picc heparin dependent flush with normal saline followed by heparin as above daily and prn per lumen pantoprazole mg tablet delayed release e c sig one tablet delayed release e c po every hours disp tablet delayed release e c s refills clopidogrel mg tablet sig one tablet po daily daily disp tablet s refills ertapenem gram recon soln sig one intravenous once a day disp refills discharge disposition home with service facility location un nursing services discharge diagnosis intra abdominal and retroperitoneal abscesses with bowel perforation discharge condition mental status clear and coherent level of consciousness alert and interactive activity status ambulatory independent discharge instructions please call your doctor or nurse practitioner or return to the emergency department for any of the following you experience new chest pain pressure squeezing or tightness new or worsening cough shortness of breath or wheeze if you are vomiting and cannot keep down fluids or your medications you are getting dehydrated due to continued vomiting diarrhea or other reasons signs of dehydration include dry mouth rapid heartbeat or feeling dizzy or faint when standing you see blood or dark black material when you vomit or have a bowel movement you experience burning when you urinate have blood in your urine or experience a discharge your pain in not improving within hours or is not gone within hours call or return immediately if your pain is getting worse or changes location or moving to your chest or back you have shaking chills or fever greater than degrees fahrenheit or degrees celsius any change in your symptoms or any new symptoms that concern you please resume all regular home medications unless specifically advised not to take a particular medication also please take any new medications as prescribed please get plenty of rest continue to ambulate several times per day and drink adequate amounts of fluids avoid lifting weights greater than lbs until you follow up with your surgeon avoid driving or operating heavy machinery while taking pain medications incision care please call your doctor or nurse practitioner if you have increased pain swelling redness or drainage from the incision site avoid swimming and baths until your follow up appointment you may shower and wash surgical incisions with a mild soap and warm water gently pat the area dry your staples will be removed at your follow up appointment picc line please monitor the site regularly and md your md nurse practitioner or md nurse if you notice redness swelling tenderness or pain drainage or bleeding at the insertion site md your md first name titles last name titles to the emergency room immediately if the picc line tubing becomes damaged or punctured or if the line is pulled out partially or completely do not use the picc line in these circumstances please keep the dressing clean and dry contact your ni nurse if the dressing comes undone or is significantly soiled for further instructions followup instructions call the acute care clinic at telephone fax for a follow up appointment in week for staple removal call dr name ni office at telephone fax to schedule an appoitment for the same day last name un buidling location un location un numeric identifier you must follow up with infectious diseases dr last name stitle who has an office in your home town please call telephone fax to make an appoitment to see dr last name stitle in week call dr last name stitle your primary care doctor for a follow up appointment in weeks\n"
     ]
    }
   ],
   "source": [
    "new_df = df_disch[df_disch['HADM_ID'] == 196271]\n",
    "for index, row in new_df.iterrows():\n",
    "    print (row['TEXT'])"
   ]
  },
  {
   "cell_type": "code",
   "execution_count": 15,
   "metadata": {},
   "outputs": [],
   "source": [
    "df = pd.read_csv('%s/disch_full.csv' % MIMIC_3_DIR)"
   ]
  },
  {
   "cell_type": "code",
   "execution_count": 16,
   "metadata": {},
   "outputs": [],
   "source": [
    "new_df = df[df.duplicated(subset=['HADM_ID', 'TEXT'])]"
   ]
  },
  {
   "cell_type": "code",
   "execution_count": 17,
   "metadata": {},
   "outputs": [
    {
     "data": {
      "text/plain": [
       "172"
      ]
     },
     "execution_count": 17,
     "metadata": {},
     "output_type": "execute_result"
    }
   ],
   "source": [
    "sum(df.duplicated(subset=['HADM_ID', 'TEXT']))"
   ]
  },
  {
   "cell_type": "code",
   "execution_count": 18,
   "metadata": {},
   "outputs": [
    {
     "data": {
      "text/plain": [
       "172"
      ]
     },
     "execution_count": 18,
     "metadata": {},
     "output_type": "execute_result"
    }
   ],
   "source": [
    "len(new_df)"
   ]
  },
  {
   "cell_type": "code",
   "execution_count": 19,
   "metadata": {},
   "outputs": [
    {
     "data": {
      "text/plain": [
       "59652"
      ]
     },
     "execution_count": 19,
     "metadata": {},
     "output_type": "execute_result"
    }
   ],
   "source": [
    "len(df)"
   ]
  },
  {
   "cell_type": "code",
   "execution_count": 20,
   "metadata": {},
   "outputs": [],
   "source": [
    "df.drop_duplicates(subset=['HADM_ID', 'TEXT'], inplace=True)"
   ]
  },
  {
   "cell_type": "code",
   "execution_count": 21,
   "metadata": {},
   "outputs": [
    {
     "data": {
      "text/plain": [
       "59480"
      ]
     },
     "execution_count": 21,
     "metadata": {},
     "output_type": "execute_result"
    }
   ],
   "source": [
    "len(df)"
   ]
  },
  {
   "cell_type": "code",
   "execution_count": 22,
   "metadata": {},
   "outputs": [],
   "source": [
    "file = '%s/disch_full.csv' % MIMIC_3_DIR\n",
    "df.to_csv(file, index=False)"
   ]
  }
 ],
 "metadata": {
  "kernelspec": {
   "display_name": "Python 3",
   "language": "python",
   "name": "python3"
  },
  "language_info": {
   "codemirror_mode": {
    "name": "ipython",
    "version": 3
   },
   "file_extension": ".py",
   "mimetype": "text/x-python",
   "name": "python",
   "nbconvert_exporter": "python",
   "pygments_lexer": "ipython3",
   "version": "3.5.2"
  }
 },
 "nbformat": 4,
 "nbformat_minor": 2
}
