{
 "cells": [
  {
   "cell_type": "code",
   "execution_count": 1,
   "metadata": {},
   "outputs": [],
   "source": [
    "import pandas as pd\n",
    "import datetime as datetime\n",
    "import warnings\n",
    "warnings.filterwarnings('ignore')\n",
    "import numpy as np"
   ]
  },
  {
   "cell_type": "code",
   "execution_count": 2,
   "metadata": {},
   "outputs": [],
   "source": [
    "admissions = pd.read_csv(\"data/ADMISSIONS.CSV\")\n",
    "admissions[\"ADMITTIME\"] = admissions[\"ADMITTIME\"].apply(lambda x: datetime.datetime.strptime(x, '%Y-%m-%d %H:%M:%S'))\n",
    "admissions[\"DISCHTIME\"] = admissions[\"DISCHTIME\"].apply(lambda x: datetime.datetime.strptime(x, '%Y-%m-%d %H:%M:%S'))\n",
    "admissions=admissions[[\"HADM_ID\",\"SUBJECT_ID\",\"ADMITTIME\", \"DISCHTIME\"]]\n",
    "\n",
    "admissions[\"window\"] = admissions[\"DISCHTIME\"].apply(lambda x: (x,x + datetime.timedelta(days=30)))"
   ]
  },
  {
   "cell_type": "code",
   "execution_count": 3,
   "metadata": {},
   "outputs": [],
   "source": [
    "def to_set(x):\n",
    "    return set(x)\n",
    "\n",
    "sets = admissions.groupby('SUBJECT_ID', as_index = False)['ADMITTIME'].agg({'admitdates': to_set})"
   ]
  },
  {
   "cell_type": "code",
   "execution_count": 4,
   "metadata": {},
   "outputs": [
    {
     "data": {
      "text/html": [
       "<div>\n",
       "<style scoped>\n",
       "    .dataframe tbody tr th:only-of-type {\n",
       "        vertical-align: middle;\n",
       "    }\n",
       "\n",
       "    .dataframe tbody tr th {\n",
       "        vertical-align: top;\n",
       "    }\n",
       "\n",
       "    .dataframe thead th {\n",
       "        text-align: right;\n",
       "    }\n",
       "</style>\n",
       "<table border=\"1\" class=\"dataframe\">\n",
       "  <thead>\n",
       "    <tr style=\"text-align: right;\">\n",
       "      <th></th>\n",
       "      <th>HADM_ID</th>\n",
       "      <th>window</th>\n",
       "      <th>admitdates</th>\n",
       "    </tr>\n",
       "  </thead>\n",
       "  <tbody>\n",
       "    <tr>\n",
       "      <th>0</th>\n",
       "      <td>165315</td>\n",
       "      <td>(2196-04-10 15:54:00, 2196-05-10 15:54:00)</td>\n",
       "      <td>{2196-04-09 12:26:00}</td>\n",
       "    </tr>\n",
       "    <tr>\n",
       "      <th>1</th>\n",
       "      <td>152223</td>\n",
       "      <td>(2153-09-08 19:10:00, 2153-10-08 19:10:00)</td>\n",
       "      <td>{2157-10-18 19:34:00, 2153-09-03 07:15:00}</td>\n",
       "    </tr>\n",
       "    <tr>\n",
       "      <th>2</th>\n",
       "      <td>124321</td>\n",
       "      <td>(2157-10-25 14:00:00, 2157-11-24 14:00:00)</td>\n",
       "      <td>{2157-10-18 19:34:00, 2153-09-03 07:15:00}</td>\n",
       "    </tr>\n",
       "    <tr>\n",
       "      <th>3</th>\n",
       "      <td>161859</td>\n",
       "      <td>(2139-06-09 12:48:00, 2139-07-09 12:48:00)</td>\n",
       "      <td>{2139-06-06 16:14:00}</td>\n",
       "    </tr>\n",
       "    <tr>\n",
       "      <th>4</th>\n",
       "      <td>129635</td>\n",
       "      <td>(2160-11-05 14:55:00, 2160-12-05 14:55:00)</td>\n",
       "      <td>{2160-11-02 02:06:00}</td>\n",
       "    </tr>\n",
       "  </tbody>\n",
       "</table>\n",
       "</div>"
      ],
      "text/plain": [
       "   HADM_ID                                      window  \\\n",
       "0   165315  (2196-04-10 15:54:00, 2196-05-10 15:54:00)   \n",
       "1   152223  (2153-09-08 19:10:00, 2153-10-08 19:10:00)   \n",
       "2   124321  (2157-10-25 14:00:00, 2157-11-24 14:00:00)   \n",
       "3   161859  (2139-06-09 12:48:00, 2139-07-09 12:48:00)   \n",
       "4   129635  (2160-11-05 14:55:00, 2160-12-05 14:55:00)   \n",
       "\n",
       "                                   admitdates  \n",
       "0                       {2196-04-09 12:26:00}  \n",
       "1  {2157-10-18 19:34:00, 2153-09-03 07:15:00}  \n",
       "2  {2157-10-18 19:34:00, 2153-09-03 07:15:00}  \n",
       "3                       {2139-06-06 16:14:00}  \n",
       "4                       {2160-11-02 02:06:00}  "
      ]
     },
     "execution_count": 4,
     "metadata": {},
     "output_type": "execute_result"
    }
   ],
   "source": [
    "admissions = admissions.merge(sets)[[\"HADM_ID\",\"window\",\"admitdates\"]]\n",
    "admissions.head()"
   ]
  },
  {
   "cell_type": "code",
   "execution_count": 5,
   "metadata": {},
   "outputs": [],
   "source": [
    "def fx(x,y):\n",
    "    for i in y:\n",
    "        #if i>x[0]+datetime.timedelta(hours=6) and i<x[1]:3393\n",
    "        if i>x[0] and i<x[1]:\n",
    "            return 1\n",
    "    return 0"
   ]
  },
  {
   "cell_type": "code",
   "execution_count": 6,
   "metadata": {},
   "outputs": [
    {
     "data": {
      "text/html": [
       "<div>\n",
       "<style scoped>\n",
       "    .dataframe tbody tr th:only-of-type {\n",
       "        vertical-align: middle;\n",
       "    }\n",
       "\n",
       "    .dataframe tbody tr th {\n",
       "        vertical-align: top;\n",
       "    }\n",
       "\n",
       "    .dataframe thead th {\n",
       "        text-align: right;\n",
       "    }\n",
       "</style>\n",
       "<table border=\"1\" class=\"dataframe\">\n",
       "  <thead>\n",
       "    <tr style=\"text-align: right;\">\n",
       "      <th></th>\n",
       "      <th>HADM_ID</th>\n",
       "      <th>window</th>\n",
       "      <th>admitdates</th>\n",
       "      <th>test</th>\n",
       "    </tr>\n",
       "  </thead>\n",
       "  <tbody>\n",
       "    <tr>\n",
       "      <th>0</th>\n",
       "      <td>165315</td>\n",
       "      <td>(2196-04-10 15:54:00, 2196-05-10 15:54:00)</td>\n",
       "      <td>{2196-04-09 12:26:00}</td>\n",
       "      <td>0</td>\n",
       "    </tr>\n",
       "    <tr>\n",
       "      <th>1</th>\n",
       "      <td>152223</td>\n",
       "      <td>(2153-09-08 19:10:00, 2153-10-08 19:10:00)</td>\n",
       "      <td>{2157-10-18 19:34:00, 2153-09-03 07:15:00}</td>\n",
       "      <td>0</td>\n",
       "    </tr>\n",
       "    <tr>\n",
       "      <th>2</th>\n",
       "      <td>124321</td>\n",
       "      <td>(2157-10-25 14:00:00, 2157-11-24 14:00:00)</td>\n",
       "      <td>{2157-10-18 19:34:00, 2153-09-03 07:15:00}</td>\n",
       "      <td>0</td>\n",
       "    </tr>\n",
       "    <tr>\n",
       "      <th>3</th>\n",
       "      <td>161859</td>\n",
       "      <td>(2139-06-09 12:48:00, 2139-07-09 12:48:00)</td>\n",
       "      <td>{2139-06-06 16:14:00}</td>\n",
       "      <td>0</td>\n",
       "    </tr>\n",
       "    <tr>\n",
       "      <th>4</th>\n",
       "      <td>129635</td>\n",
       "      <td>(2160-11-05 14:55:00, 2160-12-05 14:55:00)</td>\n",
       "      <td>{2160-11-02 02:06:00}</td>\n",
       "      <td>0</td>\n",
       "    </tr>\n",
       "  </tbody>\n",
       "</table>\n",
       "</div>"
      ],
      "text/plain": [
       "   HADM_ID                                      window  \\\n",
       "0   165315  (2196-04-10 15:54:00, 2196-05-10 15:54:00)   \n",
       "1   152223  (2153-09-08 19:10:00, 2153-10-08 19:10:00)   \n",
       "2   124321  (2157-10-25 14:00:00, 2157-11-24 14:00:00)   \n",
       "3   161859  (2139-06-09 12:48:00, 2139-07-09 12:48:00)   \n",
       "4   129635  (2160-11-05 14:55:00, 2160-12-05 14:55:00)   \n",
       "\n",
       "                                   admitdates  test  \n",
       "0                       {2196-04-09 12:26:00}     0  \n",
       "1  {2157-10-18 19:34:00, 2153-09-03 07:15:00}     0  \n",
       "2  {2157-10-18 19:34:00, 2153-09-03 07:15:00}     0  \n",
       "3                       {2139-06-06 16:14:00}     0  \n",
       "4                       {2160-11-02 02:06:00}     0  "
      ]
     },
     "execution_count": 6,
     "metadata": {},
     "output_type": "execute_result"
    }
   ],
   "source": [
    "admissions[\"test\"] = np.vectorize(fx)(admissions[\"window\"],admissions[\"admitdates\"])\n",
    "admissions.head()"
   ]
  },
  {
   "cell_type": "code",
   "execution_count": 7,
   "metadata": {},
   "outputs": [
    {
     "data": {
      "text/plain": [
       "3469"
      ]
     },
     "execution_count": 7,
     "metadata": {},
     "output_type": "execute_result"
    }
   ],
   "source": [
    "sum(admissions[\"test\"])"
   ]
  },
  {
   "cell_type": "code",
   "execution_count": 8,
   "metadata": {},
   "outputs": [],
   "source": [
    "admissions = admissions[[\"HADM_ID\",\"test\"]]"
   ]
  },
  {
   "cell_type": "code",
   "execution_count": 9,
   "metadata": {},
   "outputs": [],
   "source": [
    "admissions.to_csv(\"readmission_labels.csv\", index = False)"
   ]
  }
 ],
 "metadata": {
  "kernelspec": {
   "display_name": "Python 3",
   "language": "python",
   "name": "python3"
  },
  "language_info": {
   "codemirror_mode": {
    "name": "ipython",
    "version": 3
   },
   "file_extension": ".py",
   "mimetype": "text/x-python",
   "name": "python",
   "nbconvert_exporter": "python",
   "pygments_lexer": "ipython3",
   "version": "3.6.4"
  }
 },
 "nbformat": 4,
 "nbformat_minor": 2
}
