{
 "cells": [
  {
   "cell_type": "code",
   "execution_count": 5,
   "metadata": {},
   "outputs": [],
   "source": [
    "import sys\n",
    "sys.path.append('../')\n",
    "from datasets import datasets\n",
    "from models import models_edited\n",
    "from dataproc import extract_wvs\n",
    "from dataproc import get_discharge_summaries\n",
    "from dataproc import concat_and_split\n",
    "from dataproc import build_vocab\n",
    "from dataproc import vocab_index_descriptions\n",
    "from dataproc import word_embeddings\n",
    "from constants import MIMIC_3_DIR, DATA_DIR\n",
    "\n",
    "import numpy as np\n",
    "import pandas as pd\n",
    "\n",
    "from collections import Counter, defaultdict\n",
    "import csv\n",
    "import math\n",
    "import operator\n",
    "\n"
   ]
  },
  {
   "cell_type": "code",
   "execution_count": 13,
   "metadata": {},
   "outputs": [],
   "source": [
    "df_disch = pd.read_csv('%s/disch_full.csv' % MIMIC_3_DIR)"
   ]
  },
  {
   "cell_type": "code",
   "execution_count": 14,
   "metadata": {},
   "outputs": [
    {
     "data": {
      "text/plain": [
       "0"
      ]
     },
     "execution_count": 14,
     "metadata": {},
     "output_type": "execute_result"
    }
   ],
   "source": [
    "sum(df_disch.duplicated(subset=['HADM_ID', 'TEXT']))"
   ]
  },
  {
   "cell_type": "code",
   "execution_count": 17,
   "metadata": {},
   "outputs": [],
   "source": [
    "new_df = df_disch[df_disch.duplicated(subset=['HADM_ID', 'TEXT'])]"
   ]
  },
  {
   "cell_type": "code",
   "execution_count": 18,
   "metadata": {},
   "outputs": [
    {
     "data": {
      "text/plain": [
       "0"
      ]
     },
     "execution_count": 18,
     "metadata": {},
     "output_type": "execute_result"
    }
   ],
   "source": [
    "len(new_df)"
   ]
  },
  {
   "cell_type": "code",
   "execution_count": 19,
   "metadata": {},
   "outputs": [],
   "source": [
    "new_df = df_disch[df_disch.duplicated(subset=['HADM_ID'])]"
   ]
  },
  {
   "cell_type": "code",
   "execution_count": 21,
   "metadata": {},
   "outputs": [
    {
     "name": "stdout",
     "output_type": "stream",
     "text": [
      "    SUBJECT_ID  HADM_ID  CHARTTIME  \\\n",
      "20        9805   177212        NaN   \n",
      "34         710   114242        NaN   \n",
      "54        4127   167565        NaN   \n",
      "59        5239   129387        NaN   \n",
      "61        5239   125055        NaN   \n",
      "\n",
      "                                                 TEXT  \n",
      "20  admission date discharge date date of birth se...  \n",
      "34  admission date discharge date date of birth se...  \n",
      "54  admission date discharge date date of birth se...  \n",
      "59  admission date discharge date service ccu plea...  \n",
      "61  admission date discharge date service ccu adde...  \n"
     ]
    }
   ],
   "source": [
    "print(new_df.head())"
   ]
  },
  {
   "cell_type": "code",
   "execution_count": 22,
   "metadata": {},
   "outputs": [
    {
     "data": {
      "text/plain": [
       "6754"
      ]
     },
     "execution_count": 22,
     "metadata": {},
     "output_type": "execute_result"
    }
   ],
   "source": [
    "len(new_df)"
   ]
  },
  {
   "cell_type": "code",
   "execution_count": 23,
   "metadata": {},
   "outputs": [
    {
     "data": {
      "text/plain": [
       "59480"
      ]
     },
     "execution_count": 23,
     "metadata": {},
     "output_type": "execute_result"
    }
   ],
   "source": [
    "len(df_disch)"
   ]
  },
  {
   "cell_type": "code",
   "execution_count": 24,
   "metadata": {},
   "outputs": [],
   "source": [
    "new_df_disch = df_disch.groupby(['SUBJECT_ID', 'HADM_ID'])['TEXT'].apply(' '.join).reset_index()"
   ]
  },
  {
   "cell_type": "code",
   "execution_count": 25,
   "metadata": {},
   "outputs": [
    {
     "data": {
      "text/plain": [
       "52726"
      ]
     },
     "execution_count": 25,
     "metadata": {},
     "output_type": "execute_result"
    }
   ],
   "source": [
    "len(new_df_disch)"
   ]
  },
  {
   "cell_type": "code",
   "execution_count": 26,
   "metadata": {},
   "outputs": [],
   "source": [
    "df_dup = df_disch[df_disch['HADM_ID'] == 188822]"
   ]
  },
  {
   "cell_type": "code",
   "execution_count": 27,
   "metadata": {},
   "outputs": [
    {
     "name": "stdout",
     "output_type": "stream",
     "text": [
      "admission date discharge date date of birth sex m service psychiatry allergies bactrim attending first lf chief complaint i m just so depressed i can t do anything major surgical or invasive procedure none history of present illness pt reports weeks ago he noticed an increase of stress at work and at home at the same time that he was losing weight to gain better control over his diabetes in weeks pt reports having increasingly frequent panic attacks which he controlled with klonopin and occassional xanax he also noticed decrease in sleep energy concentration interest and motivation and an increase in anhedonia over the past weeks his psychiatrist began zoloft which after days made him jittery and this was switched to celexa which he seems to be tolerating better although his neurovegetative sx seem to worsen he denies si but reports fleeting ego dystonic thoughts of hurting his wife and has not acted on any of these thoughts pt reports ruminations concerning whether he is schizophrenic will have to stay in the hospital forever or will be on meds forever pt and wife also report guilt over allowing two children to develop bad sleeping habits such that now children and wife sleep in bed and pt sleeps in chair downstairs past medical history iddm type ii osa borderline htn hypercholestremia h o rbbb past psychiatric history panic d o x on klonopin x yrs occassional xanax outpt psychiatry intermittently until weeks ago when he began to see dr last name stitle with significant depression since month only month only of this year pt and wife sought counseling for sleep issue with children x sessions no assaultive or suicidal behavior social history substance abuse history denies alcohol tobacco or other street drugs one episode of mj use in social history attorney for company location un division married to doctor first name for yrs this children known firstname and yo doctor first name denies physical or sexual abuse in past or currently denies military or legal hx family history denies physical exam mental status exam on admission appearance facial expression well groomed anxious posture sitting up in chair behavior note any abnormal movements none noted attitude e g cooperative provocative cooperative in conversation but somewhat guarded speech e g pressured slowed dysarthric aphasic etc normal flow articulation and prosody mood anxious affect note range reactivity appropriateness etc blunted affect with moderate range reactivity congruent thought form e g loosened associations tangentiality circumstantiality flight of ideas etc no loa foi doctor last name circ thought content e g preoccupations obsessions delusions etc fears he is schizophrenic because of the thoughts to hurt his wife distorted thinking regarding work somewhat paranoid about confidentiality issues and conditions of cv abnormal perceptions e g hallucinations denied neurovegetative symptoms e g disturbances of sleep appetite energy libido poor sleep energy interest suicidality homicidality include ideation intent plan fleeting thoughts as above to hurt wife denies plan si insight and judgment limited cognitive assessment sensorium e g alert drowsy somnolent alert orientation x attention digit span serial sevens etc not tested memory short and long term registration and long term intact calculations not tested fund of knowledge estimate intelligence above average proverb interpretation not tested similarities analogies not tested physical exam on admission vss exam within normal limits pertinent results hgb done done glucose urea n creat sodium potassium chloride total anion gap vit folate tsh asa neg ethanol neg acetmnphn neg bnzodzpn neg barbitrt neg tricyclic neg wbc rbc hgb hct mcv mch mchc rdw plt count urine hours random urine gr hold hold urine color straw appear clear sp last name un urine rbc wbc bacteria mod yeast none epi brief hospital course somatic interventions the patient was continued on his outpatient medication regimen of lexapro nortriptyline seroquel klonopin and trazodone he was also offerred ambien at hs as needed the patient was admitted for ect and was cleared by medicine and anesthesia of note per ect consult the patient s hs and a m doses of klonopin were held for procudure overnight prior to transfer the doc was called in response to the patient being agitated and tremulous reporting i m going to die fingerstick glucose was found to be over in response the patient was given units nph and received ativan im with fair effect on the morning of transfer the patient was again found to be tremulous and disoriented repeating that he felt he was going to die he was again given ativan im with minimal effect fingerstick was checked and found to be in the process of obtaining the patient began to demonstrate myoclonic jerking of arms and legs code was called when the patient became unresponsive therapeutic interventions the patient is followed as an outpatient by dr first last name who referred him to the inpatient unit for stabilization of his significant depression as well as for evaluation for ect mr known lastname admitted to significantly low mood since month only and endorsed neurovegetative symptoms consistent with an agitated depression behavioral the patient remained in good behavioral control for the duration of his admission requiring only minute checks legal the patient signed in under conditional voluntary upon arrival disposition the patient was transfered to an icu bed after code was called for unresponsiveness and possible seizure activity discharge disposition extended care facility discharge diagnosis axis i mdd axis ii deferred axis iii iddm type ii osa borderline htn h o rbbb seizure a w hypoglycemia discharge condition mental status exam on discharge the patient is lying supine in bed jerking arms and legs with writhing movements in his trunk the patient is unresponsive will not attend to voice etc unable to make eye contact unable to assess mood affect or thought process and content insight and judgment n a discharge instructions transfer to icu bed followup instructions transfer to icu bed psychiatry c l service will follow while on medicine completed by\n",
      "admission date discharge date date of birth sex m service medicine allergies bactrim attending first lf chief complaint depression major surgical or invasive procedure none history of present illness yo m w type dm depression who was admitted to deaconness for major depressive episode and possible first lf while on the patient was given ativan mg x his klonopin was held he was given normal dose of nph as npo for month day the following am the paitent was found to be shaking he was given mg ativan and became nonresponsive over the next minutes and a code was called the patient s fingerstick was so he was given amp of he was also given mg iv ativan he stopped shaking and mental status cleared in minutes he was started on a dilantin load he was seen by neuro who felt that in the setting of hypoglycemia severe and withdrawal of his klonopin he was at risk to have a seizure past medical history iddm type ii osa borderline htn hypercholestremia h o rbbb past psychiatric history panic d o x on klonopin x yrs occassional xanax outpt psychiatry intermittently until weeks ago when he began to see dr last name stitle with significant depression since month only month only of this year pt and wife sought counseling for sleep issue with children x sessions no assaultive or suicidal behavior social history substance abuse history denies alcohol tobacco or other street drugs one episode of mj use in social history attorney for company location un division married to doctor first name for yrs this children known firstname and yo doctor first name denies physical or sexual abuse in past or currently denies military or legal hx family history denies physical exam vs tm hr bp rr sat ra gen nad sitting in bed heent perrl eomi sclera anicteric mmm no op lesions cv normal rrr no m g r pul cta b l abd soft nt nd bs ext no edema neuro a and cn intact m ue le b l sensation grossly intact pertinent results blood wbc rbc hgb hct mcv mch mchc rdw plt ct blood plt ct blood glucose urean creat na k cl angap blood ck mb ctropnt blood ck mb ctropnt blood phenyto blood asa neg ethanol neg acetmnp neg bnzodzp neg barbitr neg tricycl neg blood type art ph base xs eeg this is a normal eeg in the awake and drowsy states note is incidentally made of a resting tachycardia brief hospital course a p with history of hypertension type ii diabetes originally admitted to psychiatry for month day year made npo p mn for month day year in am with dose of insulin who was found unresponsive and in apparent seizure state who was found to have a blood glucose of convulsions a code was called and the patient was given ativan po as well as an amp of loaded with dilantin and transferred to the micu the seizure was attributed to his hypoglycemic state although psych thought there was an element of klonopin withdrawal and thus continued to give ativan po pt had frequent bs checks in the micu and patient recovered from his initial event without any post seizure sequelae pt continued to be monitored and had no further events neurology was consulted for his seizure event and after a negative exam and negative eeg concluded that it was all due to hypoglycemia and that further dilantin would not be necessary dilantin was d ced and patient continued to do well he was eventually transferred to the floor all home medications were continued and patient continued to express interest in his month day year treatment on monday although refused to be transferred back to all home medications although his insulin dose nph qpm was halved nph qpm on the floor and his sugars were running in the range pt was sent home to return for on monday as an outpatient explicit instructions were given to take all medications as normal the night before including his klonopin and only take dose of nph insulin the night before npo p mn no morning nph dose and to cover his elevated morning sugars with humalog at a conservative sliding scale goal sugars type dm follow sugars closely continue normal dose insulin while taking pos and when npo p mn for month day in am pt was instructed to take nph dose the evening before no nph in the am and to cover with humalog prn according to conservative insulin ss to prevent hypoglycemic episodes depression pt with a h o refractory depression that was originally admitted to the psych service for month day psych consult remained aware as pt was admitted to the micu and then called out to the floors recommended continuing his klonopin po bid for his anxiety and added ativan po for coverage of his anxiety and alleviation of withdrawal during periods when he is off the klonopin continued his home doses of celexa nortriptyline seroquel and trazodone for sleep pt was to be discharged to return on monday for month day treatments as an outpatient f e n diabetic diet replete lytes prn code full dispo medically cleared per micu team as well as pcp nameis to be discharged to follow up with outpatient nameis on monday medications on admission nortriptylline qd started a week pta seroquel tid klonopin lexapro po qd trazadone qhs crestor po qd insulin ss nph qhs lisinopril po qd discharge medications nortriptyline mg capsule sig one capsule po daily daily disp capsule s refills quetiapine mg tablet sig two tablet po tid times a day disp tablet s refills trazodone mg tablet sig two tablet po qhs once a day at bedtime disp tablet s refills escitalopram mg tablet sig two tablet po daily daily disp tablet s refills rosuvastatin mg tablet sig two tablet po daily daily disp tablet s refills aspirin mg tablet sig one tablet po daily daily disp tablet s refills lisinopril mg tablet sig one tablet po once a day disp tablet s refills insulin nph human recomb unit ml suspension sig twenty units subcutaneous qam in the morning disp qs units refills insulin nph human recomb unit ml suspension sig five units subcutaneous qhs at bedtime for doses disp qs units refills insulin nph human recomb unit ml suspension sig twenty units subcutaneous at bedtime please start after treatments tomorrow night do not use this dose when not eating disp qs units refills klonopin mg tablet sig three tablet po twice a day disp tablet s refills ativan mg tablet sig one tablet po every four hours as needed for anxiety disp tablet s refills discharge disposition home discharge diagnosis major depression hypoglycemic seizure dmii htn discharge condition afebrile fs running in high normal range stable to be discharged home discharge instructions please return monday morning to receive your month year treatment with psychiatry as below please call telephone fax for your scheduled time for preparations for telephone fax tomorrow morning a please take nph units tonight no regular insulin b do not take nph morning dose tomorrow c nothing to eat past midnight d take your klonopin dose tonight e no morning medications prior to telephone fax including klonopin f have fingersticks checked in morning and prior to telephone fax and give regular insulin based on sliding scale please take your other medications as below if develop lightheadedness dizziness sweating chest pain shortness of breath confusion or other symptoms please call dr first name stitle or dr last name stitle or report to the nearest er followup instructions provider nameis nameis hospital clinic where hospital clinic date time provider first name last name md where ra hospital unit name hospital ward name hospital ward name complex hmfp phone telephone fax date time provider first name last name md where ra hospital unit name hospital ward name hospital ward name complex hmfp phone telephone fax date time first md md md number completed by\n",
      "name known lastname jr known firstname p unit no numeric identifier admission date discharge date date of birth sex m service psychiatry allergies bactrim attending first lf addendum medications on admission klonopin po bid lexapro po daily nortriptyline po daily crestor po daily seroquel po tid trazodone po qhs prn insulin standing and ss medications on discharge klonopin po bid lexapro po daily nortriptyline po daily crestor po daily seroquel po tid trazodone po qhs prn ambien po qhs prn insulin standing and ss discharge disposition extended care facility first name last name md md number completed by\n"
     ]
    }
   ],
   "source": [
    "for index, row in df_dup.iterrows():\n",
    "    print (row['TEXT'])"
   ]
  },
  {
   "cell_type": "code",
   "execution_count": 28,
   "metadata": {},
   "outputs": [
    {
     "name": "stdout",
     "output_type": "stream",
     "text": [
      "   SUBJECT_ID  HADM_ID                                               TEXT\n",
      "0           3   145834  admission date discharge date date of birth se...\n",
      "1           4   185777  admission date discharge date date of birth se...\n",
      "2           6   107064  admission date discharge date date of birth se...\n",
      "3           9   150750  admission date discharge date date of birth se...\n",
      "4          10   184167  admission date discharge date date of birth se...\n"
     ]
    }
   ],
   "source": [
    "print(new_df_disch.head())"
   ]
  },
  {
   "cell_type": "code",
   "execution_count": 29,
   "metadata": {},
   "outputs": [
    {
     "name": "stdout",
     "output_type": "stream",
     "text": [
      "admission date discharge date date of birth sex m service psychiatry allergies bactrim attending first lf chief complaint i m just so depressed i can t do anything major surgical or invasive procedure none history of present illness pt reports weeks ago he noticed an increase of stress at work and at home at the same time that he was losing weight to gain better control over his diabetes in weeks pt reports having increasingly frequent panic attacks which he controlled with klonopin and occassional xanax he also noticed decrease in sleep energy concentration interest and motivation and an increase in anhedonia over the past weeks his psychiatrist began zoloft which after days made him jittery and this was switched to celexa which he seems to be tolerating better although his neurovegetative sx seem to worsen he denies si but reports fleeting ego dystonic thoughts of hurting his wife and has not acted on any of these thoughts pt reports ruminations concerning whether he is schizophrenic will have to stay in the hospital forever or will be on meds forever pt and wife also report guilt over allowing two children to develop bad sleeping habits such that now children and wife sleep in bed and pt sleeps in chair downstairs past medical history iddm type ii osa borderline htn hypercholestremia h o rbbb past psychiatric history panic d o x on klonopin x yrs occassional xanax outpt psychiatry intermittently until weeks ago when he began to see dr last name stitle with significant depression since month only month only of this year pt and wife sought counseling for sleep issue with children x sessions no assaultive or suicidal behavior social history substance abuse history denies alcohol tobacco or other street drugs one episode of mj use in social history attorney for company location un division married to doctor first name for yrs this children known firstname and yo doctor first name denies physical or sexual abuse in past or currently denies military or legal hx family history denies physical exam mental status exam on admission appearance facial expression well groomed anxious posture sitting up in chair behavior note any abnormal movements none noted attitude e g cooperative provocative cooperative in conversation but somewhat guarded speech e g pressured slowed dysarthric aphasic etc normal flow articulation and prosody mood anxious affect note range reactivity appropriateness etc blunted affect with moderate range reactivity congruent thought form e g loosened associations tangentiality circumstantiality flight of ideas etc no loa foi doctor last name circ thought content e g preoccupations obsessions delusions etc fears he is schizophrenic because of the thoughts to hurt his wife distorted thinking regarding work somewhat paranoid about confidentiality issues and conditions of cv abnormal perceptions e g hallucinations denied neurovegetative symptoms e g disturbances of sleep appetite energy libido poor sleep energy interest suicidality homicidality include ideation intent plan fleeting thoughts as above to hurt wife denies plan si insight and judgment limited cognitive assessment sensorium e g alert drowsy somnolent alert orientation x attention digit span serial sevens etc not tested memory short and long term registration and long term intact calculations not tested fund of knowledge estimate intelligence above average proverb interpretation not tested similarities analogies not tested physical exam on admission vss exam within normal limits pertinent results hgb done done glucose urea n creat sodium potassium chloride total anion gap vit folate tsh asa neg ethanol neg acetmnphn neg bnzodzpn neg barbitrt neg tricyclic neg wbc rbc hgb hct mcv mch mchc rdw plt count urine hours random urine gr hold hold urine color straw appear clear sp last name un urine rbc wbc bacteria mod yeast none epi brief hospital course somatic interventions the patient was continued on his outpatient medication regimen of lexapro nortriptyline seroquel klonopin and trazodone he was also offerred ambien at hs as needed the patient was admitted for ect and was cleared by medicine and anesthesia of note per ect consult the patient s hs and a m doses of klonopin were held for procudure overnight prior to transfer the doc was called in response to the patient being agitated and tremulous reporting i m going to die fingerstick glucose was found to be over in response the patient was given units nph and received ativan im with fair effect on the morning of transfer the patient was again found to be tremulous and disoriented repeating that he felt he was going to die he was again given ativan im with minimal effect fingerstick was checked and found to be in the process of obtaining the patient began to demonstrate myoclonic jerking of arms and legs code was called when the patient became unresponsive therapeutic interventions the patient is followed as an outpatient by dr first last name who referred him to the inpatient unit for stabilization of his significant depression as well as for evaluation for ect mr known lastname admitted to significantly low mood since month only and endorsed neurovegetative symptoms consistent with an agitated depression behavioral the patient remained in good behavioral control for the duration of his admission requiring only minute checks legal the patient signed in under conditional voluntary upon arrival disposition the patient was transfered to an icu bed after code was called for unresponsiveness and possible seizure activity discharge disposition extended care facility discharge diagnosis axis i mdd axis ii deferred axis iii iddm type ii osa borderline htn h o rbbb seizure a w hypoglycemia discharge condition mental status exam on discharge the patient is lying supine in bed jerking arms and legs with writhing movements in his trunk the patient is unresponsive will not attend to voice etc unable to make eye contact unable to assess mood affect or thought process and content insight and judgment n a discharge instructions transfer to icu bed followup instructions transfer to icu bed psychiatry c l service will follow while on medicine completed by admission date discharge date date of birth sex m service medicine allergies bactrim attending first lf chief complaint depression major surgical or invasive procedure none history of present illness yo m w type dm depression who was admitted to deaconness for major depressive episode and possible first lf while on the patient was given ativan mg x his klonopin was held he was given normal dose of nph as npo for month day the following am the paitent was found to be shaking he was given mg ativan and became nonresponsive over the next minutes and a code was called the patient s fingerstick was so he was given amp of he was also given mg iv ativan he stopped shaking and mental status cleared in minutes he was started on a dilantin load he was seen by neuro who felt that in the setting of hypoglycemia severe and withdrawal of his klonopin he was at risk to have a seizure past medical history iddm type ii osa borderline htn hypercholestremia h o rbbb past psychiatric history panic d o x on klonopin x yrs occassional xanax outpt psychiatry intermittently until weeks ago when he began to see dr last name stitle with significant depression since month only month only of this year pt and wife sought counseling for sleep issue with children x sessions no assaultive or suicidal behavior social history substance abuse history denies alcohol tobacco or other street drugs one episode of mj use in social history attorney for company location un division married to doctor first name for yrs this children known firstname and yo doctor first name denies physical or sexual abuse in past or currently denies military or legal hx family history denies physical exam vs tm hr bp rr sat ra gen nad sitting in bed heent perrl eomi sclera anicteric mmm no op lesions cv normal rrr no m g r pul cta b l abd soft nt nd bs ext no edema neuro a and cn intact m ue le b l sensation grossly intact pertinent results blood wbc rbc hgb hct mcv mch mchc rdw plt ct blood plt ct blood glucose urean creat na k cl angap blood ck mb ctropnt blood ck mb ctropnt blood phenyto blood asa neg ethanol neg acetmnp neg bnzodzp neg barbitr neg tricycl neg blood type art ph base xs eeg this is a normal eeg in the awake and drowsy states note is incidentally made of a resting tachycardia brief hospital course a p with history of hypertension type ii diabetes originally admitted to psychiatry for month day year made npo p mn for month day year in am with dose of insulin who was found unresponsive and in apparent seizure state who was found to have a blood glucose of convulsions a code was called and the patient was given ativan po as well as an amp of loaded with dilantin and transferred to the micu the seizure was attributed to his hypoglycemic state although psych thought there was an element of klonopin withdrawal and thus continued to give ativan po pt had frequent bs checks in the micu and patient recovered from his initial event without any post seizure sequelae pt continued to be monitored and had no further events neurology was consulted for his seizure event and after a negative exam and negative eeg concluded that it was all due to hypoglycemia and that further dilantin would not be necessary dilantin was d ced and patient continued to do well he was eventually transferred to the floor all home medications were continued and patient continued to express interest in his month day year treatment on monday although refused to be transferred back to all home medications although his insulin dose nph qpm was halved nph qpm on the floor and his sugars were running in the range pt was sent home to return for on monday as an outpatient explicit instructions were given to take all medications as normal the night before including his klonopin and only take dose of nph insulin the night before npo p mn no morning nph dose and to cover his elevated morning sugars with humalog at a conservative sliding scale goal sugars type dm follow sugars closely continue normal dose insulin while taking pos and when npo p mn for month day in am pt was instructed to take nph dose the evening before no nph in the am and to cover with humalog prn according to conservative insulin ss to prevent hypoglycemic episodes depression pt with a h o refractory depression that was originally admitted to the psych service for month day psych consult remained aware as pt was admitted to the micu and then called out to the floors recommended continuing his klonopin po bid for his anxiety and added ativan po for coverage of his anxiety and alleviation of withdrawal during periods when he is off the klonopin continued his home doses of celexa nortriptyline seroquel and trazodone for sleep pt was to be discharged to return on monday for month day treatments as an outpatient f e n diabetic diet replete lytes prn code full dispo medically cleared per micu team as well as pcp nameis to be discharged to follow up with outpatient nameis on monday medications on admission nortriptylline qd started a week pta seroquel tid klonopin lexapro po qd trazadone qhs crestor po qd insulin ss nph qhs lisinopril po qd discharge medications nortriptyline mg capsule sig one capsule po daily daily disp capsule s refills quetiapine mg tablet sig two tablet po tid times a day disp tablet s refills trazodone mg tablet sig two tablet po qhs once a day at bedtime disp tablet s refills escitalopram mg tablet sig two tablet po daily daily disp tablet s refills rosuvastatin mg tablet sig two tablet po daily daily disp tablet s refills aspirin mg tablet sig one tablet po daily daily disp tablet s refills lisinopril mg tablet sig one tablet po once a day disp tablet s refills insulin nph human recomb unit ml suspension sig twenty units subcutaneous qam in the morning disp qs units refills insulin nph human recomb unit ml suspension sig five units subcutaneous qhs at bedtime for doses disp qs units refills insulin nph human recomb unit ml suspension sig twenty units subcutaneous at bedtime please start after treatments tomorrow night do not use this dose when not eating disp qs units refills klonopin mg tablet sig three tablet po twice a day disp tablet s refills ativan mg tablet sig one tablet po every four hours as needed for anxiety disp tablet s refills discharge disposition home discharge diagnosis major depression hypoglycemic seizure dmii htn discharge condition afebrile fs running in high normal range stable to be discharged home discharge instructions please return monday morning to receive your month year treatment with psychiatry as below please call telephone fax for your scheduled time for preparations for telephone fax tomorrow morning a please take nph units tonight no regular insulin b do not take nph morning dose tomorrow c nothing to eat past midnight d take your klonopin dose tonight e no morning medications prior to telephone fax including klonopin f have fingersticks checked in morning and prior to telephone fax and give regular insulin based on sliding scale please take your other medications as below if develop lightheadedness dizziness sweating chest pain shortness of breath confusion or other symptoms please call dr first name stitle or dr last name stitle or report to the nearest er followup instructions provider nameis nameis hospital clinic where hospital clinic date time provider first name last name md where ra hospital unit name hospital ward name hospital ward name complex hmfp phone telephone fax date time provider first name last name md where ra hospital unit name hospital ward name hospital ward name complex hmfp phone telephone fax date time first md md md number completed by name known lastname jr known firstname p unit no numeric identifier admission date discharge date date of birth sex m service psychiatry allergies bactrim attending first lf addendum medications on admission klonopin po bid lexapro po daily nortriptyline po daily crestor po daily seroquel po tid trazodone po qhs prn insulin standing and ss medications on discharge klonopin po bid lexapro po daily nortriptyline po daily crestor po daily seroquel po tid trazodone po qhs prn ambien po qhs prn insulin standing and ss discharge disposition extended care facility first name last name md md number completed by\n"
     ]
    }
   ],
   "source": [
    "df_dup_new = new_df_disch[new_df_disch['HADM_ID'] == 188822]\n",
    "for index, row in df_dup_new.iterrows():\n",
    "    print (row['TEXT'])"
   ]
  },
  {
   "cell_type": "code",
   "execution_count": 31,
   "metadata": {},
   "outputs": [],
   "source": [
    "file = '%s/disch_full.csv' % MIMIC_3_DIR\n",
    "new_df_disch.to_csv(file, index=False)"
   ]
  },
  {
   "cell_type": "code",
   "execution_count": 32,
   "metadata": {},
   "outputs": [],
   "source": [
    "df_readmission = pd.read_csv('%s/readmission_labels.csv' % MIMIC_3_DIR)"
   ]
  },
  {
   "cell_type": "code",
   "execution_count": 33,
   "metadata": {},
   "outputs": [
    {
     "data": {
      "text/plain": [
       "58976"
      ]
     },
     "execution_count": 33,
     "metadata": {},
     "output_type": "execute_result"
    }
   ],
   "source": [
    "len(df_readmission['HADM_ID'].unique())"
   ]
  },
  {
   "cell_type": "code",
   "execution_count": 34,
   "metadata": {},
   "outputs": [
    {
     "data": {
      "text/plain": [
       "52726"
      ]
     },
     "execution_count": 34,
     "metadata": {},
     "output_type": "execute_result"
    }
   ],
   "source": [
    "len(new_df_disch['HADM_ID'].unique())"
   ]
  },
  {
   "cell_type": "code",
   "execution_count": 35,
   "metadata": {},
   "outputs": [],
   "source": [
    "df_merged = new_df_disch.merge(df_readmission, how=\"left\", on=\"HADM_ID\")"
   ]
  },
  {
   "cell_type": "code",
   "execution_count": 36,
   "metadata": {},
   "outputs": [],
   "source": [
    "df_merged.rename(columns={'test':'READMISSION'}, inplace=True)"
   ]
  },
  {
   "cell_type": "code",
   "execution_count": 37,
   "metadata": {},
   "outputs": [
    {
     "data": {
      "text/plain": [
       "52726"
      ]
     },
     "execution_count": 37,
     "metadata": {},
     "output_type": "execute_result"
    }
   ],
   "source": [
    "len(df_merged)"
   ]
  },
  {
   "cell_type": "code",
   "execution_count": 38,
   "metadata": {},
   "outputs": [
    {
     "name": "stdout",
     "output_type": "stream",
     "text": [
      "   SUBJECT_ID  HADM_ID                                               TEXT  \\\n",
      "0           3   145834  admission date discharge date date of birth se...   \n",
      "1           4   185777  admission date discharge date date of birth se...   \n",
      "2           6   107064  admission date discharge date date of birth se...   \n",
      "3           9   150750  admission date discharge date date of birth se...   \n",
      "4          10   184167  admission date discharge date date of birth se...   \n",
      "\n",
      "   READMISSION  \n",
      "0            0  \n",
      "1            0  \n",
      "2            0  \n",
      "3            0  \n",
      "4            0  \n"
     ]
    }
   ],
   "source": [
    "print(df_merged.head())"
   ]
  },
  {
   "cell_type": "code",
   "execution_count": 39,
   "metadata": {},
   "outputs": [],
   "source": [
    "file = '%s/disch_summary_readmission_labels.csv' % MIMIC_3_DIR\n",
    "df_merged.to_csv(file, index=False)"
   ]
  },
  {
   "cell_type": "code",
   "execution_count": null,
   "metadata": {},
   "outputs": [
    {
     "name": "stdout",
     "output_type": "stream",
     "text": [
      "reading in data...\n"
     ]
    }
   ],
   "source": [
    "import importlib\n",
    "importlib.reload(build_vocab)\n",
    "vocab_min = 3\n",
    "vname = '%s/vocab.csv' % MIMIC_3_DIR\n",
    "infile = '%s/disch_summary_readmission_labels.csv' % MIMIC_3_DIR\n",
    "build_vocab.build_vocab(vocab_min, infile, vname)"
   ]
  },
  {
   "cell_type": "code",
   "execution_count": 41,
   "metadata": {},
   "outputs": [
    {
     "name": "stdout",
     "output_type": "stream",
     "text": [
      "building word2vec vocab on ../mimicdata/mimic3/disch_full.csv...\n",
      "training...\n",
      "writing embeddings to ../mimicdata/mimic3/processed_full.w2v\n"
     ]
    }
   ],
   "source": [
    "w2v_file = word_embeddings.word_embeddings('full', '%s/disch_full.csv' % MIMIC_3_DIR, 100, 0, 5)"
   ]
  },
  {
   "cell_type": "code",
   "execution_count": 42,
   "metadata": {},
   "outputs": [
    {
     "name": "stderr",
     "output_type": "stream",
     "text": [
      "100%|██████████| 49638/49638 [01:35<00:00, 520.14it/s] \n"
     ]
    }
   ],
   "source": [
    "Y = 'full'\n",
    "extract_wvs.gensim_to_embeddings('%s/processed_full.w2v' % MIMIC_3_DIR, '%s/vocab.csv' % MIMIC_3_DIR, Y)"
   ]
  },
  {
   "cell_type": "code",
   "execution_count": 63,
   "metadata": {},
   "outputs": [
    {
     "name": "stdout",
     "output_type": "stream",
     "text": [
      "   SUBJECT_ID  HADM_ID                                               TEXT  \\\n",
      "0           3   145834  admission date discharge date date of birth se...   \n",
      "2           6   107064  admission date discharge date date of birth se...   \n",
      "3           9   150750  admission date discharge date date of birth se...   \n",
      "4          10   184167  admission date discharge date date of birth se...   \n",
      "5          11   194540  admission date discharge date date of birth se...   \n",
      "\n",
      "   READMISSION  \n",
      "0            0  \n",
      "2            0  \n",
      "3            0  \n",
      "4            0  \n",
      "5            0  \n",
      "    SUBJECT_ID  HADM_ID                                               TEXT  \\\n",
      "1            4   185777  admission date discharge date date of birth se...   \n",
      "12          20   157681  admission date discharge date date of birth se...   \n",
      "18          24   161859  admission date discharge date date of birth se...   \n",
      "31          37   188670  admission date discharge date date of birth se...   \n",
      "44          56   181711  admission date discharge date service medicine...   \n",
      "\n",
      "    READMISSION  \n",
      "1             0  \n",
      "12            0  \n",
      "18            0  \n",
      "31            0  \n",
      "44            0  \n"
     ]
    }
   ],
   "source": [
    "#Creating splits\n",
    "df_disch = pd.read_csv('%s/disch_summary_readmission_labels.csv' % MIMIC_3_DIR)\n",
    "msk = np.random.rand(len(df_disch)) < 0.8\n",
    "train = df_disch[msk]\n",
    "test = df_disch[~msk]\n"
   ]
  },
  {
   "cell_type": "code",
   "execution_count": 64,
   "metadata": {},
   "outputs": [],
   "source": [
    "file = '%s/disch_sum_train.csv' % MIMIC_3_DIR\n",
    "train.to_csv(file, index=False)\n",
    "file = file = '%s/disch_sum_test.csv' % MIMIC_3_DIR\n",
    "test.to_csv(file, index = False)"
   ]
  },
  {
   "cell_type": "code",
   "execution_count": 7,
   "metadata": {},
   "outputs": [
    {
     "name": "stderr",
     "output_type": "stream",
     "text": [
      "112it [00:00, 1118.95it/s]"
     ]
    },
    {
     "name": "stdout",
     "output_type": "stream",
     "text": [
      "processing notes file\n",
      "writing to ../mimicdata/mimic3/disch_full.csv\n"
     ]
    },
    {
     "name": "stderr",
     "output_type": "stream",
     "text": [
      "2083180it [01:27, 23676.62it/s]\n"
     ]
    }
   ],
   "source": [
    "import importlib\n",
    "importlib.reload(get_discharge_summaries)\n",
    "disch_full_file = get_discharge_summaries.write_discharge_summaries(out_file=\"%s/disch_full.csv\" % MIMIC_3_DIR)"
   ]
  },
  {
   "cell_type": "code",
   "execution_count": null,
   "metadata": {},
   "outputs": [],
   "source": []
  }
 ],
 "metadata": {
  "kernelspec": {
   "display_name": "Python 3",
   "language": "python",
   "name": "python3"
  },
  "language_info": {
   "codemirror_mode": {
    "name": "ipython",
    "version": 3
   },
   "file_extension": ".py",
   "mimetype": "text/x-python",
   "name": "python",
   "nbconvert_exporter": "python",
   "pygments_lexer": "ipython3",
   "version": "3.5.2"
  }
 },
 "nbformat": 4,
 "nbformat_minor": 2
}
